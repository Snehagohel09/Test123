{
 "cells": [
  {
   "cell_type": "markdown",
   "id": "4f061efe-5af4-46d4-94ce-16cc642d02e9",
   "metadata": {},
   "source": [
    "#To know the type of the variable/Different types of data types"
   ]
  },
  {
   "cell_type": "code",
   "execution_count": 10,
   "id": "f6d77456-fb4c-411a-80fe-a4ca5f00b98f",
   "metadata": {},
   "outputs": [
    {
     "data": {
      "text/plain": [
       "'Hello world'"
      ]
     },
     "execution_count": 10,
     "metadata": {},
     "output_type": "execute_result"
    }
   ],
   "source": [
    "A= \"Hello world\"\n",
    "A"
   ]
  },
  {
   "cell_type": "code",
   "execution_count": 2,
   "id": "780b593c-0fa4-46e3-9572-908a461e51ea",
   "metadata": {},
   "outputs": [
    {
     "data": {
      "text/plain": [
       "str"
      ]
     },
     "execution_count": 2,
     "metadata": {},
     "output_type": "execute_result"
    }
   ],
   "source": [
    "type(A)"
   ]
  },
  {
   "cell_type": "code",
   "execution_count": 5,
   "id": "bf893ca2-b82a-4ed0-be07-1cdd25ea4316",
   "metadata": {},
   "outputs": [
    {
     "data": {
      "text/plain": [
       "True"
      ]
     },
     "execution_count": 5,
     "metadata": {},
     "output_type": "execute_result"
    }
   ],
   "source": [
    "a1= True\n",
    "a1"
   ]
  },
  {
   "cell_type": "code",
   "execution_count": 6,
   "id": "f51b5e2f-aa7a-41eb-b26f-227a4e714fff",
   "metadata": {},
   "outputs": [
    {
     "data": {
      "text/plain": [
       "bool"
      ]
     },
     "execution_count": 6,
     "metadata": {},
     "output_type": "execute_result"
    }
   ],
   "source": [
    "type(a1)"
   ]
  },
  {
   "cell_type": "code",
   "execution_count": 8,
   "id": "3697f30e-c85c-4a0d-b73c-901de8a786cc",
   "metadata": {},
   "outputs": [
    {
     "data": {
      "text/plain": [
       "(3+5j)"
      ]
     },
     "execution_count": 8,
     "metadata": {},
     "output_type": "execute_result"
    }
   ],
   "source": [
    "a2= 3+5j\n",
    "a2"
   ]
  },
  {
   "cell_type": "code",
   "execution_count": 9,
   "id": "76c6d22d-ec94-4614-a73c-4dd8c376291a",
   "metadata": {},
   "outputs": [
    {
     "data": {
      "text/plain": [
       "complex"
      ]
     },
     "execution_count": 9,
     "metadata": {},
     "output_type": "execute_result"
    }
   ],
   "source": [
    "type(a2)"
   ]
  },
  {
   "cell_type": "code",
   "execution_count": 11,
   "id": "dfcac01d-9aee-4623-b23e-1f1080ddbb7a",
   "metadata": {},
   "outputs": [
    {
     "data": {
      "text/plain": [
       "500"
      ]
     },
     "execution_count": 11,
     "metadata": {},
     "output_type": "execute_result"
    }
   ],
   "source": [
    "a1= 500\n",
    "a1"
   ]
  },
  {
   "cell_type": "code",
   "execution_count": 12,
   "id": "1778ecad-0a80-448f-bea7-0db5eb2ea855",
   "metadata": {},
   "outputs": [
    {
     "data": {
      "text/plain": [
       "int"
      ]
     },
     "execution_count": 12,
     "metadata": {},
     "output_type": "execute_result"
    }
   ],
   "source": [
    "type(a1)"
   ]
  },
  {
   "cell_type": "markdown",
   "id": "68614234-100d-45b6-9348-6cb814b982c9",
   "metadata": {},
   "source": [
    "#Arthmetic operators are   + - / * "
   ]
  },
  {
   "cell_type": "code",
   "execution_count": 3,
   "id": "5219976a-5e0b-4402-b335-831f0289535c",
   "metadata": {},
   "outputs": [
    {
     "data": {
      "text/plain": [
       "70"
      ]
     },
     "execution_count": 3,
     "metadata": {},
     "output_type": "execute_result"
    }
   ],
   "source": [
    "a=30\n",
    "b=40\n",
    "a+b"
   ]
  },
  {
   "cell_type": "code",
   "execution_count": 4,
   "id": "99c34437-b202-4c2e-b649-c6aeb5736e82",
   "metadata": {},
   "outputs": [
    {
     "data": {
      "text/plain": [
       "-10"
      ]
     },
     "execution_count": 4,
     "metadata": {},
     "output_type": "execute_result"
    }
   ],
   "source": [
    "a-b"
   ]
  },
  {
   "cell_type": "code",
   "execution_count": 5,
   "id": "d2975f4c-2098-4ae4-9de8-2c44643fe4bf",
   "metadata": {},
   "outputs": [
    {
     "data": {
      "text/plain": [
       "0.75"
      ]
     },
     "execution_count": 5,
     "metadata": {},
     "output_type": "execute_result"
    }
   ],
   "source": [
    "a/b"
   ]
  },
  {
   "cell_type": "code",
   "execution_count": 6,
   "id": "771bad08-9ead-4ed8-9d75-fc523b042962",
   "metadata": {},
   "outputs": [
    {
     "data": {
      "text/plain": [
       "1200"
      ]
     },
     "execution_count": 6,
     "metadata": {},
     "output_type": "execute_result"
    }
   ],
   "source": [
    "a*b"
   ]
  },
  {
   "cell_type": "code",
   "execution_count": 9,
   "id": "fab13c63-6a56-44b7-ba3c-ee9d86b885e4",
   "metadata": {},
   "outputs": [],
   "source": [
    "#relational operator <,>,== equal to,!= not equal to"
   ]
  },
  {
   "cell_type": "code",
   "execution_count": 10,
   "id": "6a20b6b1-db59-4a6b-b05c-234b786b5caf",
   "metadata": {},
   "outputs": [],
   "source": [
    "x=200\n",
    "y=300"
   ]
  },
  {
   "cell_type": "code",
   "execution_count": 11,
   "id": "c0131cd5-3445-4a45-a0db-0c7a9ab1bc95",
   "metadata": {},
   "outputs": [
    {
     "data": {
      "text/plain": [
       "False"
      ]
     },
     "execution_count": 11,
     "metadata": {},
     "output_type": "execute_result"
    }
   ],
   "source": [
    "x>y"
   ]
  },
  {
   "cell_type": "code",
   "execution_count": 12,
   "id": "e8679bcb-230b-449b-9fa7-e3fb4905067e",
   "metadata": {},
   "outputs": [
    {
     "data": {
      "text/plain": [
       "True"
      ]
     },
     "execution_count": 12,
     "metadata": {},
     "output_type": "execute_result"
    }
   ],
   "source": [
    "x<y"
   ]
  },
  {
   "cell_type": "code",
   "execution_count": 13,
   "id": "cdad2206-3be7-4625-80b6-715a58e2fbf6",
   "metadata": {},
   "outputs": [
    {
     "data": {
      "text/plain": [
       "False"
      ]
     },
     "execution_count": 13,
     "metadata": {},
     "output_type": "execute_result"
    }
   ],
   "source": [
    "x==y"
   ]
  },
  {
   "cell_type": "code",
   "execution_count": 14,
   "id": "cf8bdf5d-fba2-4ac0-b0bf-cea558095bb4",
   "metadata": {},
   "outputs": [
    {
     "data": {
      "text/plain": [
       "True"
      ]
     },
     "execution_count": 14,
     "metadata": {},
     "output_type": "execute_result"
    }
   ],
   "source": [
    "x!=y"
   ]
  },
  {
   "cell_type": "code",
   "execution_count": 15,
   "id": "3812e9b1-5bb9-4bda-985b-bc5dfd789789",
   "metadata": {},
   "outputs": [],
   "source": [
    "#logical operator  & and , | OR "
   ]
  },
  {
   "cell_type": "code",
   "execution_count": 16,
   "id": "44a40271-6a9a-4f92-9044-b7bf0cf96c50",
   "metadata": {},
   "outputs": [],
   "source": [
    "a=True\n",
    "b=False"
   ]
  },
  {
   "cell_type": "code",
   "execution_count": 17,
   "id": "83d6904b-347a-43be-a414-f4a54088bc74",
   "metadata": {},
   "outputs": [
    {
     "data": {
      "text/plain": [
       "False"
      ]
     },
     "execution_count": 17,
     "metadata": {},
     "output_type": "execute_result"
    }
   ],
   "source": [
    "a & b"
   ]
  },
  {
   "cell_type": "code",
   "execution_count": 18,
   "id": "88ae7583-62a3-4f73-8320-aa1f70c12d0b",
   "metadata": {},
   "outputs": [
    {
     "data": {
      "text/plain": [
       "True"
      ]
     },
     "execution_count": 18,
     "metadata": {},
     "output_type": "execute_result"
    }
   ],
   "source": [
    "a & a"
   ]
  },
  {
   "cell_type": "code",
   "execution_count": 19,
   "id": "0fc451b4-0654-4f39-8e63-51c5773ad187",
   "metadata": {},
   "outputs": [
    {
     "data": {
      "text/plain": [
       "False"
      ]
     },
     "execution_count": 19,
     "metadata": {},
     "output_type": "execute_result"
    }
   ],
   "source": [
    "b & a"
   ]
  },
  {
   "cell_type": "code",
   "execution_count": 20,
   "id": "1845c359-ea8e-4669-8bed-9c89b66f7284",
   "metadata": {},
   "outputs": [
    {
     "data": {
      "text/plain": [
       "True"
      ]
     },
     "execution_count": 20,
     "metadata": {},
     "output_type": "execute_result"
    }
   ],
   "source": [
    "a | b"
   ]
  },
  {
   "cell_type": "code",
   "execution_count": 21,
   "id": "09b37d91-affb-4f35-8941-39d7bb2861fe",
   "metadata": {},
   "outputs": [
    {
     "data": {
      "text/plain": [
       "True"
      ]
     },
     "execution_count": 21,
     "metadata": {},
     "output_type": "execute_result"
    }
   ],
   "source": [
    "b | a"
   ]
  },
  {
   "cell_type": "code",
   "execution_count": 22,
   "id": "85cdcb86-14a1-4dd8-a303-566a0d9bd4d6",
   "metadata": {},
   "outputs": [
    {
     "data": {
      "text/plain": [
       "False"
      ]
     },
     "execution_count": 22,
     "metadata": {},
     "output_type": "execute_result"
    }
   ],
   "source": [
    "b| b"
   ]
  },
  {
   "cell_type": "code",
   "execution_count": 1,
   "id": "7983ce4a-eb49-4711-b28b-a590bb3bacbd",
   "metadata": {},
   "outputs": [
    {
     "name": "stdout",
     "output_type": "stream",
     "text": [
      "Mix 500g of Flour,10g Yeast and 300ml Water in a bowl.\n",
      "Kead the dough for 30 minutes.\n",
      "Add 3g of salt.\n",
      "Leave to rise for 2 hours.\n",
      "Bake at 200 degrees C for 30 minutes.\n"
     ]
    }
   ],
   "source": [
    "\n",
    "print (\"Mix 500g of Flour,10g Yeast and 300ml Water in a bowl.\")\n",
    "print(\"Kead the dough for 30 minutes.\")\n",
    "print(\"Add 3g of salt.\")\n",
    "print(\"Leave to rise for 2 hours.\")\n",
    "print(\"Bake at 200 degrees C for 30 minutes.\")"
   ]
  },
  {
   "cell_type": "code",
   "execution_count": 2,
   "id": "c7b5113f-2e0d-4980-bd99-bf334579c54d",
   "metadata": {},
   "outputs": [
    {
     "name": "stdout",
     "output_type": "stream",
     "text": [
      "My\n",
      "Name\n",
      "Is\n",
      "Sneha\n"
     ]
    }
   ],
   "source": [
    "# to print new lines \n",
    "print(\"My\\nName\\nIs\\nSneha\")"
   ]
  },
  {
   "cell_type": "code",
   "execution_count": 3,
   "id": "f8f6531b-6a17-41ba-9a78-02a801bbe655",
   "metadata": {},
   "outputs": [
    {
     "name": "stdin",
     "output_type": "stream",
     "text": [
      "What is your name sneha\n"
     ]
    },
    {
     "data": {
      "text/plain": [
       "'sneha'"
      ]
     },
     "execution_count": 3,
     "metadata": {},
     "output_type": "execute_result"
    }
   ],
   "source": [
    "# to take the input from user \n",
    "input(\"What is your name\")"
   ]
  },
  {
   "cell_type": "code",
   "execution_count": 6,
   "id": "4cd139ef-497e-4ab9-a42f-b88cb6af902e",
   "metadata": {},
   "outputs": [
    {
     "name": "stdin",
     "output_type": "stream",
     "text": [
      "What is your name Sneha\n"
     ]
    },
    {
     "name": "stdout",
     "output_type": "stream",
     "text": [
      "Hello dearSneha\n"
     ]
    }
   ],
   "source": [
    "#to concatenate two strings\n",
    "print(\"Hello dear\" +  input(\"What is your name\"))"
   ]
  },
  {
   "cell_type": "code",
   "execution_count": 7,
   "id": "1c61cf51-f7fe-401b-9230-d36842c3f3cc",
   "metadata": {},
   "outputs": [
    {
     "name": "stdin",
     "output_type": "stream",
     "text": [
      "What is your name? RAJ\n"
     ]
    },
    {
     "name": "stdout",
     "output_type": "stream",
     "text": [
      "HelloRAJ!\n"
     ]
    }
   ],
   "source": [
    "to put exclamtion mark on last \n",
    "print(\"Hello\" + input(\"What is your name?\")+\"!\")"
   ]
  },
  {
   "cell_type": "code",
   "execution_count": null,
   "id": "a8d5e41e-34ea-4b2f-b1c5-580ec3422b9d",
   "metadata": {},
   "outputs": [],
   "source": []
  },
  {
   "cell_type": "code",
   "execution_count": null,
   "id": "444da101-4c8a-4b4b-86dd-c7d44d617f47",
   "metadata": {},
   "outputs": [],
   "source": []
  }
 ],
 "metadata": {
  "kernelspec": {
   "display_name": "Python 3 (ipykernel)",
   "language": "python",
   "name": "python3"
  },
  "language_info": {
   "codemirror_mode": {
    "name": "ipython",
    "version": 3
   },
   "file_extension": ".py",
   "mimetype": "text/x-python",
   "name": "python",
   "nbconvert_exporter": "python",
   "pygments_lexer": "ipython3",
   "version": "3.11.7"
  }
 },
 "nbformat": 4,
 "nbformat_minor": 5
}
